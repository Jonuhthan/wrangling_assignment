{
 "cells": [
  {
   "cell_type": "markdown",
   "id": "13ad028b-72b7-43ed-aa78-96fd4e518040",
   "metadata": {
    "id": "13ad028b-72b7-43ed-aa78-96fd4e518040"
   },
   "source": [
    "# Assignment: Data Wrangling\n",
    "### `! git clone https://github.com/ds3001f25/wrangling_assignment.git`\n",
    "### Do Q1 and Q2\n",
    "### Reading material: `tidy_data.pdf`"
   ]
  },
  {
   "cell_type": "markdown",
   "id": "da879ea7-8aac-48a3-b6c2-daea56d2e072",
   "metadata": {
    "id": "da879ea7-8aac-48a3-b6c2-daea56d2e072"
   },
   "source": [
    "**Q1.** This question provides some practice cleaning variables which have common problems.\n",
    "1. Numeric variable: For `./data/airbnb_hw.csv`, clean the `Price` variable as well as you can, and explain the choices you make. How many missing values do you end up with? (Hint: What happens to the formatting when a price goes over 999 dollars, say from 675 to 1,112?)\n",
    "2. Categorical variable: For the Minnesota police use of for data, `./data/mn_police_use_of_force.csv`, clean the `subject_injury` variable, handling the NA's; this gives a value `Yes` when a person was injured by police, and `No` when no injury occurred. What proportion of the values are missing? Is this a concern? Cross-tabulate your cleaned `subject_injury` variable with the `force_type` variable. Are there any patterns regarding when the data are missing? \n",
    "3. Dummy variable: For the pretrial data covered in the lecture `./data/justice_data.parquet`, clean the `WhetherDefendantWasReleasedPretrial` variable as well as you can, and, in particular, replace missing values with `np.nan`.\n",
    "4. Missing values, not at random: For the pretrial data covered in the lecture, clean the `ImposedSentenceAllChargeInContactEvent` variable as well as you can, and explain the choices you make. (Hint: Look at the `SentenceTypeAllChargesAtConvictionInContactEvent` variable.)"
   ]
  },
  {
   "cell_type": "markdown",
   "id": "7561b03d",
   "metadata": {},
   "source": [
    "1. To clean the price variable, I first reviewed the different possible values within the column. I noticed that for prices over 999, an extra comma was added for formatting purposes. I addressed this by creating a new column, \"Cleaned_price\", and filtered out all comma characters for all values. Next, I converted each value back into a numeric type in order to prevent any type mismatches. Any values that could not be converted would be replaced with NaN, or missing. Finally, I summed the NaN values within Cleaned_price and got 0 missing values."
   ]
  },
  {
   "cell_type": "code",
   "execution_count": 121,
   "id": "9d412a8d",
   "metadata": {},
   "outputs": [
    {
     "data": {
      "text/plain": [
       "0"
      ]
     },
     "execution_count": 121,
     "metadata": {},
     "output_type": "execute_result"
    }
   ],
   "source": [
    "import numpy as np\n",
    "import matplotlib.pyplot as plt \n",
    "import pandas as pd \n",
    "\n",
    "df_airbnb = pd.read_csv(\"./data/airbnb_hw.csv\")\n",
    "\n",
    "# There exist price values with \",\" characters when over 999, also of type string\n",
    "df_airbnb[\"Price\"].unique()\n",
    "\n",
    "# Create a new column \"Cleaned_price\" and remove commas\n",
    "df_airbnb[\"Cleaned_price\"] = df_airbnb[\"Price\"].str.replace(\",\", \"\")\n",
    "\n",
    "# Convert Cleaned_price to numeric type, replace any faulty values with NaN\n",
    "df_airbnb['Cleaned_price'] = pd.to_numeric(df_airbnb['Cleaned_price'], errors='coerce')\n",
    "\n",
    "# Get count of missing values within Cleaned_price\n",
    "df_airbnb[\"Cleaned_price\"].isna().sum()"
   ]
  },
  {
   "cell_type": "markdown",
   "id": "aacb9ffa",
   "metadata": {},
   "source": [
    "2. The NaN values for the subject_injury variable were handled by replacing any empty string values with np.nan. Because there were only 3 unique values in the dataset, \"Yes\", \"No\", and NaN, no attempts to clean the casing or spelling of the results were necessary. It was interesting that a majority of observations lacked values, approximately 76%. This is a concerningly high proportion, which forms a clearer pattern when the \"subject_injury_nan\" variable is cross-tabulated with \"force_type.\" From it, we can see spikes in missing values for force types such as \"Bodily Force\", \"Chemical Irritant\", and \"Taser\", where the number of missing values greatly outnumbers the sum of \"Yes\" and \"No\" responses, indicating an unusual amount of unreported injuries in these specific categories."
   ]
  },
  {
   "cell_type": "code",
   "execution_count": 133,
   "id": "2711e612",
   "metadata": {},
   "outputs": [
    {
     "name": "stdout",
     "output_type": "stream",
     "text": [
      "[nan 'No' 'Yes'] \n",
      "\n",
      "Proportion of missing values:  0.7619342359767892 \n",
      "\n",
      "force_type          Baton  Bodily Force  Chemical Irritant  Firearm  \\\n",
      "subject_injury_nan                                                    \n",
      "False                   2          2379                172        2   \n",
      "True                    2          7051               1421        0   \n",
      "\n",
      "force_type          Gun Point Display  Improvised Weapon  Less Lethal  \\\n",
      "subject_injury_nan                                                      \n",
      "False                              77                 74            0   \n",
      "True                               27                 74           87   \n",
      "\n",
      "force_type          Less Lethal Projectile  Maximal Restraint Technique  \\\n",
      "subject_injury_nan                                                        \n",
      "False                                    3                            0   \n",
      "True                                     0                          170   \n",
      "\n",
      "force_type          Police K9 Bite  Taser  \n",
      "subject_injury_nan                         \n",
      "False                           46    322  \n",
      "True                            31    985   \n",
      "\n"
     ]
    },
    {
     "data": {
      "text/html": [
       "<div>\n",
       "<style scoped>\n",
       "    .dataframe tbody tr th:only-of-type {\n",
       "        vertical-align: middle;\n",
       "    }\n",
       "\n",
       "    .dataframe tbody tr th {\n",
       "        vertical-align: top;\n",
       "    }\n",
       "\n",
       "    .dataframe thead th {\n",
       "        text-align: right;\n",
       "    }\n",
       "</style>\n",
       "<table border=\"1\" class=\"dataframe\">\n",
       "  <thead>\n",
       "    <tr style=\"text-align: right;\">\n",
       "      <th>force_type</th>\n",
       "      <th>Baton</th>\n",
       "      <th>Bodily Force</th>\n",
       "      <th>Chemical Irritant</th>\n",
       "      <th>Firearm</th>\n",
       "      <th>Gun Point Display</th>\n",
       "      <th>Improvised Weapon</th>\n",
       "      <th>Less Lethal</th>\n",
       "      <th>Less Lethal Projectile</th>\n",
       "      <th>Maximal Restraint Technique</th>\n",
       "      <th>Police K9 Bite</th>\n",
       "      <th>Taser</th>\n",
       "    </tr>\n",
       "    <tr>\n",
       "      <th>Cleaned_subject_injury</th>\n",
       "      <th></th>\n",
       "      <th></th>\n",
       "      <th></th>\n",
       "      <th></th>\n",
       "      <th></th>\n",
       "      <th></th>\n",
       "      <th></th>\n",
       "      <th></th>\n",
       "      <th></th>\n",
       "      <th></th>\n",
       "      <th></th>\n",
       "    </tr>\n",
       "  </thead>\n",
       "  <tbody>\n",
       "    <tr>\n",
       "      <th>No</th>\n",
       "      <td>0</td>\n",
       "      <td>1093</td>\n",
       "      <td>131</td>\n",
       "      <td>2</td>\n",
       "      <td>33</td>\n",
       "      <td>34</td>\n",
       "      <td>0</td>\n",
       "      <td>1</td>\n",
       "      <td>0</td>\n",
       "      <td>2</td>\n",
       "      <td>150</td>\n",
       "    </tr>\n",
       "    <tr>\n",
       "      <th>Yes</th>\n",
       "      <td>2</td>\n",
       "      <td>1286</td>\n",
       "      <td>41</td>\n",
       "      <td>0</td>\n",
       "      <td>44</td>\n",
       "      <td>40</td>\n",
       "      <td>0</td>\n",
       "      <td>2</td>\n",
       "      <td>0</td>\n",
       "      <td>44</td>\n",
       "      <td>172</td>\n",
       "    </tr>\n",
       "    <tr>\n",
       "      <th>NaN</th>\n",
       "      <td>2</td>\n",
       "      <td>7051</td>\n",
       "      <td>1421</td>\n",
       "      <td>0</td>\n",
       "      <td>27</td>\n",
       "      <td>74</td>\n",
       "      <td>87</td>\n",
       "      <td>0</td>\n",
       "      <td>170</td>\n",
       "      <td>31</td>\n",
       "      <td>985</td>\n",
       "    </tr>\n",
       "  </tbody>\n",
       "</table>\n",
       "</div>"
      ],
      "text/plain": [
       "force_type              Baton  Bodily Force  Chemical Irritant  Firearm  \\\n",
       "Cleaned_subject_injury                                                    \n",
       "No                          0          1093                131        2   \n",
       "Yes                         2          1286                 41        0   \n",
       "NaN                         2          7051               1421        0   \n",
       "\n",
       "force_type              Gun Point Display  Improvised Weapon  Less Lethal  \\\n",
       "Cleaned_subject_injury                                                      \n",
       "No                                     33                 34            0   \n",
       "Yes                                    44                 40            0   \n",
       "NaN                                    27                 74           87   \n",
       "\n",
       "force_type              Less Lethal Projectile  Maximal Restraint Technique  \\\n",
       "Cleaned_subject_injury                                                        \n",
       "No                                           1                            0   \n",
       "Yes                                          2                            0   \n",
       "NaN                                          0                          170   \n",
       "\n",
       "force_type              Police K9 Bite  Taser  \n",
       "Cleaned_subject_injury                         \n",
       "No                                   2    150  \n",
       "Yes                                 44    172  \n",
       "NaN                                 31    985  "
      ]
     },
     "execution_count": 133,
     "metadata": {},
     "output_type": "execute_result"
    }
   ],
   "source": [
    "df_police = pd.read_csv(\"./data/mn_police_use_of_force.csv\")\n",
    "\n",
    "# Unique values are \"Yes\", \"No\", and \"NaN\"\n",
    "print(df_police[\"subject_injury\"].unique(), \"\\n\")\n",
    "\n",
    "# Handle NaNs by converting any missing values to it\n",
    "df_police[\"Cleaned_subject_injury\"] = (\n",
    "    df_police[\"subject_injury\"]\n",
    "    .replace(\" \", np.nan)\n",
    ")\n",
    "\n",
    "df_police[\"subject_injury_nan\"] = df_police[\"subject_injury\"].isnull()\n",
    "\n",
    "# Number of NaN rows / total rows\n",
    "print(f\"Proportion of missing values: \", sum(df_police[\"subject_injury_nan\"]) / len(df_police), \"\\n\")\n",
    "\n",
    "# Number of missing values per force type\n",
    "print(pd.crosstab(df_police[\"subject_injury_nan\"], df_police[\"force_type\"]), \"\\n\")\n",
    "\n",
    "# Do not drop NaN rows in order to observe when more missing values occur\n",
    "pd.crosstab(df_police[\"Cleaned_subject_injury\"], df_police[\"force_type\"], dropna=False)"
   ]
  },
  {
   "cell_type": "markdown",
   "id": "acbf6d74",
   "metadata": {},
   "source": [
    "3. This variable was cleaned by first checking for its unique values: 0, 1, and 9. While 0 and 1 are interpreted as yes/no or true/false, 9 is not a binary value and can therefore be considered a missing value. Thus, we create a new cleaned variable and replace 9 with np.nan. Because the values are also already numeric, no additional cleaning is needed."
   ]
  },
  {
   "cell_type": "code",
   "execution_count": 134,
   "id": "868b50e7",
   "metadata": {},
   "outputs": [
    {
     "name": "stdout",
     "output_type": "stream",
     "text": [
      "[9 0 1] \n",
      "\n"
     ]
    },
    {
     "data": {
      "text/plain": [
       "CleanedWhetherDefendantWasReleasedPretrial\n",
       "1.0    19154\n",
       "0.0     3801\n",
       "NaN       31\n",
       "Name: count, dtype: int64"
      ]
     },
     "execution_count": 134,
     "metadata": {},
     "output_type": "execute_result"
    }
   ],
   "source": [
    "import numpy as np\n",
    "\n",
    "df_pretrial = pd.read_parquet(\"./data/justice_data.parquet\")\n",
    "\n",
    "# Unique values of 0, 1, and 9 (which should not be in answer)\n",
    "print(df_pretrial[\"WhetherDefendantWasReleasedPretrial\"].unique(), \"\\n\")\n",
    "\n",
    "# Values are already numeric, so replace 9 with np.nan\n",
    "df_pretrial[\"CleanedWhetherDefendantWasReleasedPretrial\"] = (\n",
    "    df_pretrial[\"WhetherDefendantWasReleasedPretrial\"]\n",
    "    .replace(9, np.nan)\n",
    ")\n",
    "\n",
    "# Values are now \"Yes\", \"No\", and NaN\n",
    "df_pretrial[\"CleanedWhetherDefendantWasReleasedPretrial\"].value_counts(dropna=False)"
   ]
  },
  {
   "cell_type": "markdown",
   "id": "22785715",
   "metadata": {},
   "source": [
    "4. I cleaned this variable by replacing empty values with NaN, converting the values from strings to integers, and rounding any floating point values to the nearest whole number. Empty strings provide no context to our value, so we can standardize this lack of information using NaN. Next, to follow the formatting rule in the SentenceTypeAllChargesAtConvictionInContactEvent variable, I converted the string numbers to integers. This also makes it easier for later analysis/computation. Lastly, I rounded sentences to the nearest whole number to remove the messy remainders. In the context of the dataset, it is also more reasonable to have whole number sentences rather than portions of some time period to serve."
   ]
  },
  {
   "cell_type": "code",
   "execution_count": 135,
   "id": "845b227c",
   "metadata": {},
   "outputs": [
    {
     "name": "stdout",
     "output_type": "stream",
     "text": [
      "[9 0 1 4 2] \n",
      "\n"
     ]
    },
    {
     "data": {
      "text/plain": [
       "CleanedImposedSentenceAllChargeInContactEvent\n",
       "<NA>    9053\n",
       "0       5702\n",
       "12      1720\n",
       "1       1130\n",
       "3        905\n",
       "        ... \n",
       "176        1\n",
       "124        1\n",
       "551        1\n",
       "405        1\n",
       "230        1\n",
       "Name: count, Length: 234, dtype: Int64"
      ]
     },
     "execution_count": 135,
     "metadata": {},
     "output_type": "execute_result"
    }
   ],
   "source": [
    "df_pretrial = pd.read_parquet(\"./data/justice_data.parquet\")\n",
    "\n",
    "# No empty strings, numeric type not strings\n",
    "print(df_pretrial[\"SentenceTypeAllChargesAtConvictionInContactEvent\"].unique(), \"\\n\")\n",
    "\n",
    "df_pretrial[\"CleanedImposedSentenceAllChargeInContactEvent\"] = pd.to_numeric(\n",
    "    df_pretrial[\"ImposedSentenceAllChargeInContactEvent\"], errors=\"coerce\"\n",
    ")\n",
    "\n",
    "df_pretrial[\"CleanedImposedSentenceAllChargeInContactEvent\"] = df_pretrial[\n",
    "    \"CleanedImposedSentenceAllChargeInContactEvent\"\n",
    "].round(0).astype(\"Int64\")\n",
    "\n",
    "df_pretrial[\"CleanedImposedSentenceAllChargeInContactEvent\"].value_counts(dropna=False)\n"
   ]
  },
  {
   "cell_type": "markdown",
   "id": "5a60a44e",
   "metadata": {},
   "source": [
    "**Q2.** Go to https://sharkattackfile.net/ and download their dataset on shark attacks (Hint: `GSAF5.xls`).\n",
    "\n",
    "1. Open the shark attack file using Pandas. It is probably not a csv file, so `read_csv` won't work.\n",
    "2. Drop any columns that do not contain data.\n",
    "3. Clean the year variable. Describe the range of values you see. Filter the rows to focus on attacks since 1940. Are attacks increasing, decreasing, or remaining constant over time?\n",
    "4. Clean the Age variable and make a histogram of the ages of the victims.\n",
    "5. What proportion of victims are male?\n",
    "6. Clean the `Type` variable so it only takes three values: Provoked and Unprovoked and Unknown. What proportion of attacks are unprovoked?\n",
    "7. Clean the `Fatal Y/N` variable so it only takes three values: Y, N, and Unknown.\n",
    "8. Are sharks more likely to launch unprovoked attacks on men or women? Is the attack more or less likely to be fatal when the attack is provoked or unprovoked? Is it more or less likely to be fatal when the victim is male or female? How do you feel about sharks?\n",
    "9. What proportion of attacks appear to be by white sharks? (Hint: `str.split()` makes a vector of text values into a list of lists, split by spaces.)"
   ]
  },
  {
   "cell_type": "code",
   "execution_count": 136,
   "id": "178f2a47",
   "metadata": {},
   "outputs": [],
   "source": [
    "# 1. Open file\n",
    "df_shark = pd.read_excel(\"./data/GSAF5.xls\")\n",
    "\n",
    "# 2. Drop columns that are completely empty (every value for a variable is NaN)\n",
    "df_shark = df_shark.dropna(axis=1, how=\"all\")"
   ]
  },
  {
   "cell_type": "markdown",
   "id": "0e2d2fb5",
   "metadata": {},
   "source": [
    "3. The year variable has a wide range of values, spanning from NaN and 0 to 2026. These, of course, are not valid values and are later filtered out. I cleaned the variable by converting all the values to be numeric for consistency, but also to replace any missing values with NaN. Next, I converted each value to an integer to remove the \".\" character following each value. I filtered for rows between 1940 and 2025, as anything past this year is invalid. When viewing the output of .value_counts(), shark attacks have had mild increases and decreases within the 20th Century, but have steeply ramped up past 2000, peaking at 143 in 2015."
   ]
  },
  {
   "cell_type": "code",
   "execution_count": 137,
   "id": "91b300ea",
   "metadata": {},
   "outputs": [
    {
     "name": "stdout",
     "output_type": "stream",
     "text": [
      "[2025. 2024. 2026. 2023. 2022. 2021. 2020. 2019. 2018. 2017.   nan 2016.\n",
      " 2015. 2014. 2013. 2012. 2011. 2010. 2009. 2008. 2007. 2006. 2005. 2004.\n",
      " 2003. 2002. 2001. 2000. 1999. 1998. 1997. 1996. 1995. 1984. 1994. 1993.\n",
      " 1992. 1991. 1990. 1989. 1969. 1988. 1987. 1986. 1985. 1983. 1982. 1981.\n",
      " 1980. 1979. 1978. 1977. 1976. 1975. 1974. 1973. 1972. 1971. 1970. 1968.\n",
      " 1967. 1966. 1965. 1964. 1963. 1962. 1961. 1960. 1959. 1958. 1957. 1956.\n",
      " 1955. 1954. 1953. 1952. 1951. 1950. 1949. 1948. 1848. 1947. 1946. 1945.\n",
      " 1944. 1943. 1942. 1941. 1940. 1939. 1938. 1937. 1936. 1935. 1934. 1933.\n",
      " 1932. 1931. 1930. 1929. 1928. 1927. 1926. 1925. 1924. 1923. 1922. 1921.\n",
      " 1920. 1919. 1918. 1917. 1916. 1915. 1914. 1913. 1912. 1911. 1910. 1909.\n",
      " 1908. 1907. 1906. 1905. 1904. 1903. 1902. 1901. 1900. 1899. 1898. 1897.\n",
      " 1896. 1895. 1894. 1893. 1892. 1891. 1890. 1889. 1888. 1887. 1886. 1885.\n",
      " 1884. 1883. 1882. 1881. 1880. 1879. 1878. 1877. 1876. 1875. 1874. 1873.\n",
      " 1872. 1871. 1870. 1869. 1868. 1867. 1866. 1865. 1864. 1863. 1862. 1861.\n",
      " 1860. 1859. 1858. 1857. 1856. 1855. 1853. 1852. 1851. 1850. 1849. 1847.\n",
      " 1846. 1845. 1844. 1842. 1841. 1840. 1839. 1837. 1836. 1835. 1834. 1832.\n",
      " 1831. 1830. 1829. 1828. 1827. 1826. 1825. 1823. 1822. 1819. 1818. 1817.\n",
      " 1816. 1815. 1812. 1811. 1810. 1808. 1807. 1805. 1804. 1803. 1802. 1801.\n",
      " 1800. 1797. 1792. 1791. 1788. 1787. 1786. 1785. 1784. 1783. 1780. 1779.\n",
      " 1776. 1771. 1767. 1764. 1758. 1753. 1751. 1749. 1755. 1748. 1742. 1738.\n",
      " 1733. 1723. 1721. 1703. 1700. 1642. 1691. 1640. 1638. 1637. 1617. 1595.\n",
      " 1580. 1555. 1554. 1543. 1518. 1500. 1000.   77.    5.    0.] \n",
      "\n",
      "Cleaned_Year\n",
      "1940     24\n",
      "1941     27\n",
      "1942     41\n",
      "1943     28\n",
      "1944     31\n",
      "1945     16\n",
      "1946     26\n",
      "1947     30\n",
      "1948     29\n",
      "1949     31\n",
      "1950     43\n",
      "1951     32\n",
      "1952     29\n",
      "1953     36\n",
      "1954     45\n",
      "1955     43\n",
      "1956     51\n",
      "1957     41\n",
      "1958     54\n",
      "1959     93\n",
      "1960     93\n",
      "1961     78\n",
      "1962     86\n",
      "1963     61\n",
      "1964     66\n",
      "1965     51\n",
      "1966     58\n",
      "1967     48\n",
      "1968     47\n",
      "1969     30\n",
      "1970     42\n",
      "1971     30\n",
      "1972     36\n",
      "1973     27\n",
      "1974     39\n",
      "1975     49\n",
      "1976     39\n",
      "1977     26\n",
      "1978     26\n",
      "1979     25\n",
      "1980     36\n",
      "1981     49\n",
      "1982     42\n",
      "1983     50\n",
      "1984     41\n",
      "1985     37\n",
      "1986     39\n",
      "1987     35\n",
      "1988     56\n",
      "1989     53\n",
      "1990     39\n",
      "1991     39\n",
      "1992     56\n",
      "1993     56\n",
      "1994     57\n",
      "1995     76\n",
      "1996     61\n",
      "1997     57\n",
      "1998     65\n",
      "1999     66\n",
      "2000     97\n",
      "2001     92\n",
      "2002     88\n",
      "2003     92\n",
      "2004     92\n",
      "2005    103\n",
      "2006    103\n",
      "2007    113\n",
      "2008    122\n",
      "2009    120\n",
      "2010    101\n",
      "2011    128\n",
      "2012    117\n",
      "2013    122\n",
      "2014    126\n",
      "2015    143\n",
      "2016    133\n",
      "2017    141\n",
      "2018    124\n",
      "2019    114\n",
      "2020    101\n",
      "2021    110\n",
      "2022     98\n",
      "2023    109\n",
      "2024     52\n",
      "2025     48\n"
     ]
    }
   ],
   "source": [
    "print(df_shark[\"Year\"].unique(), \"\\n\")\n",
    "\n",
    "# Replace values that cannot be converted to numeric to NaN\n",
    "df_shark[\"Cleaned_Year\"] = pd.to_numeric(df_shark[\"Year\"], errors=\"coerce\")\n",
    "\n",
    "# Convert to integer\n",
    "df_shark[\"Cleaned_Year\"] = df_shark[\"Cleaned_Year\"].astype(\"Int64\")\n",
    "\n",
    "filter = ((df_shark[\"Cleaned_Year\"] >= 1940) & (df_shark[\"Cleaned_Year\"] <= 2025))\n",
    "df_shark_recent = df_shark[filter]\n",
    "\n",
    "# Only contains attacks since 1940\n",
    "df_shark_recent[\"Cleaned_Year\"].unique()\n",
    "\n",
    "# Sort output by index/year\n",
    "# .to_string to get full output\n",
    "print(df_shark_recent[\"Cleaned_Year\"].value_counts().sort_index().to_string())"
   ]
  },
  {
   "cell_type": "markdown",
   "id": "7f1707c4",
   "metadata": {},
   "source": [
    "4. This variable was cleaned by converting values to numeric, setting any non-numeric values to be NaN. Next, all values were converted to integers to remove the floating point because our age is measured in years. The histogram illustrates that the age group with the highest frequency of attacks is teenagers and those in their 20s, which slowly tapers off with an increase in age."
   ]
  },
  {
   "cell_type": "code",
   "execution_count": 138,
   "id": "469fe3f5",
   "metadata": {},
   "outputs": [
    {
     "name": "stdout",
     "output_type": "stream",
     "text": [
      "<IntegerArray>\n",
      "[<NA>,   63,    9,   39,   19,    7,   85,   69,   18,   66,   21,   40,   37,\n",
      "   16,   20,   12,   42,   26,   14,   45,   30,   56,   29,   35,   58,   24,\n",
      "   55,   17,   36,   23,   28,   48,   57,   61,   27,   38,   68,   33,   15,\n",
      "   41,   43,   49,   25,   46,   65,   64,   13,   11,   32,   10,   62,   22,\n",
      "   52,   44,   47,   59,    8,   50,   34,   77,   60,   73,   67,    6,   53,\n",
      "   51,   31,   71,   54,   75,   70,    4,   74,    3,   82,   72,    5,   86,\n",
      "   84,   87,    1,   81,   78]\n",
      "Length: 83, dtype: Int64 \n",
      "\n"
     ]
    },
    {
     "data": {
      "text/plain": [
       "Text(0, 0.5, 'Number of Attacks')"
      ]
     },
     "execution_count": 138,
     "metadata": {},
     "output_type": "execute_result"
    },
    {
     "data": {
      "image/png": "[encoded data removed]",
      "text/plain": [
       "<Figure size 640x480 with 1 Axes>"
      ]
     },
     "metadata": {},
     "output_type": "display_data"
    }
   ],
   "source": [
    "# Mixed text and characters with integers\n",
    "df_shark[\"Age\"].unique()\n",
    "\n",
    "df_shark[\"Cleaned_Age\"] = pd.to_numeric(df_shark[\"Age\"], errors=\"coerce\")\n",
    "df_shark[\"Cleaned_Age\"] = df_shark[\"Cleaned_Age\"].astype(\"Int64\")\n",
    "\n",
    "# Now values are all integers or NaN\n",
    "print(df_shark[\"Cleaned_Age\"].unique(), \"\\n\")\n",
    "\n",
    "df_shark[\"Cleaned_Age\"].hist(bins = 10)\n",
    "plt.title(\"Histogram of Shark Attacks by Age\")\n",
    "plt.xlabel(\"Age\")\n",
    "plt.ylabel(\"Number of Attacks\")"
   ]
  },
  {
   "cell_type": "markdown",
   "id": "2cd29417",
   "metadata": {},
   "source": [
    "5. Looking at the unique values of the \"Sex\" variable, there are entries with extra spaces, capitalization issues, and other characters besides \"M\" or \"F.\" To clean this, we first uppercase everything for standardization, then strip the extra spaces into a new dummy variable, \"Cleaned_Sex.\" Next, we locate all values that are not \"M\" or \"F\" and replace them with np.nan. Once our variable is cleaned, we divide the number of male victims over the total number of victims, ignoring NaN values. This gives us a proportion of 0.875, or 87.5%."
   ]
  },
  {
   "cell_type": "code",
   "execution_count": 128,
   "id": "da9e0a34",
   "metadata": {},
   "outputs": [
    {
     "name": "stdout",
     "output_type": "stream",
     "text": [
      "['M' 'F' 'F ' 'M ' nan ' M' 'm' 'lli' 'M x 2' 'N' '.'] \n",
      "\n",
      "['M' 'F' nan] \n",
      "\n",
      "Proportion of male victims:  0.8751935583772066\n"
     ]
    }
   ],
   "source": [
    "# Spacing errors and values besides \"M\" or \"F\"\n",
    "print(df_shark[\"Sex\"].unique(), \"\\n\")\n",
    "\n",
    "# Uppercase for standardization, then strip trailing spaces\n",
    "df_shark[\"Cleaned_Sex\"] = (\n",
    "    df_shark[\"Sex\"]\n",
    "    .str.upper()\n",
    "    .str.strip()\n",
    ")\n",
    "\n",
    "# Locate all values in \"Cleaned_Sex\" that are not \"M\" or \"F\" and replace them with np.nan\n",
    "df_shark.loc[~df_shark[\"Cleaned_Sex\"].isin([\"M\", \"F\"]), \"Cleaned_Sex\"] = np.nan\n",
    "\n",
    "# Now values are only \"M\", \"F\", or \"NaN\"\n",
    "print(df_shark[\"Cleaned_Sex\"].unique(), \"\\n\")\n",
    "\n",
    "# Number of male victims / number of all victims (ignoring NaN)\n",
    "print(\"Proportion of male victims: \", \n",
    "    sum(df_shark[\"Cleaned_Sex\"] == \"M\") / sum(df_shark[\"Cleaned_Sex\"].notna()))"
   ]
  },
  {
   "cell_type": "markdown",
   "id": "16ddd4c3",
   "metadata": {},
   "source": [
    "6. A similar process is used to clean the \"Type\" variable. The values are uppercased and stripped, then all other values besides \"PROVOKED\" and \"UNPROVOKED\" are replaced with \"UNKNOWN.\" Dividing the count of unprovoked attacks by the number of total attacks generates a proportion of 0.738, or 73.8%."
   ]
  },
  {
   "cell_type": "code",
   "execution_count": 129,
   "id": "e6cf4710",
   "metadata": {},
   "outputs": [
    {
     "name": "stdout",
     "output_type": "stream",
     "text": [
      "['Provoked' 'Unprovoked' 'Questionable' 'unprovoked' ' Provoked'\n",
      " 'Watercraft' 'Sea Disaster' nan '?' 'Unconfirmed' 'Unverified' 'Invalid'\n",
      " 'Under investigation' 'Boat'] \n",
      "\n",
      "Cleaned_Type\n",
      "UNPROVOKED    5197\n",
      "UNKNOWN       1204\n",
      "PROVOKED       641\n",
      "Name: count, dtype: int64 \n",
      "\n",
      "Proportion of unprovoked attacks:  0.7380005680204488\n"
     ]
    }
   ],
   "source": [
    "# Spacing and capitalization inconsistencies\n",
    "print(df_shark[\"Type\"].unique(), \"\\n\")\n",
    "\n",
    "df_shark[\"Cleaned_Type\"] = (\n",
    "    df_shark[\"Type\"]\n",
    "    .str.upper()\n",
    "    .str.strip()\n",
    ")\n",
    "\n",
    "# Replace all other values with \"UNKNOWN\"\n",
    "df_shark.loc[~df_shark[\"Cleaned_Type\"].isin([\"PROVOKED\", \"UNPROVOKED\"]), \"Cleaned_Type\"] = \"UNKNOWN\"\n",
    "\n",
    "print(df_shark[\"Cleaned_Type\"].value_counts(), \"\\n\")\n",
    "\n",
    "# Number of unprovoked attacks / number of all attacks\n",
    "print(\"Proportion of unprovoked attacks: \",\n",
    "    sum(df_shark[\"Cleaned_Type\"] == \"UNPROVOKED\") / len(df_shark[\"Cleaned_Type\"]))"
   ]
  },
  {
   "cell_type": "code",
   "execution_count": 130,
   "id": "aada851b",
   "metadata": {},
   "outputs": [
    {
     "name": "stdout",
     "output_type": "stream",
     "text": [
      "['N' 'Y' 'F' 'M' nan 'n' 'Nq' 'UNKNOWN' 2017 'Y x 2' ' N' 'N ' 'y'] \n",
      "\n"
     ]
    },
    {
     "data": {
      "text/plain": [
       "Cleaned_Fatal_Y/N\n",
       "N          4917\n",
       "Y          1482\n",
       "Unknown     643\n",
       "Name: count, dtype: int64"
      ]
     },
     "execution_count": 130,
     "metadata": {},
     "output_type": "execute_result"
    }
   ],
   "source": [
    "# 7. Clean the \"Fatal Y/N\" variable to only accept \"Y\", \"N\", and \"Unknown\"\n",
    "\n",
    "print(df_shark[\"Fatal Y/N\"].unique(), \"\\n\")\n",
    "\n",
    "df_shark[\"Cleaned_Fatal_Y/N\"] = (\n",
    "    df_shark[\"Fatal Y/N\"]\n",
    "    .str.upper()\n",
    "    .str.strip()\n",
    ")\n",
    "\n",
    "# Replace anything that is not \"Y\" or \"N\" with \"Unknown\"\n",
    "df_shark.loc[~df_shark[\"Cleaned_Fatal_Y/N\"].isin([\"Y\", \"N\"]), \"Cleaned_Fatal_Y/N\"] = \"Unknown\"\n",
    "\n",
    "# Only has Y, N, or Unknown\n",
    "df_shark[\"Cleaned_Fatal_Y/N\"].value_counts()\n"
   ]
  },
  {
   "cell_type": "markdown",
   "id": "faf6a90f",
   "metadata": {},
   "source": [
    "8. By cross-tabulating the \"Cleaned_Sex\" and \"Cleaned_Type\" categories and normalizing them, we can see which combinations of groups were more likely to be attacked. For unprovoked attacks, sharks are more likely to attack women slightly more than men. Cross-tabulating \"Cleaned_Type\" and \"Cleaned_Fatal_Y/N\" reveals that attacks are more likely to be fatal when they are unprovoked (0.243) compared to provoked (0.033). Finally, cross-tabulating \"Cleaned_Fatal_Y/N\" and \"Cleaned_Sex\" shows that attacks are more likely to be fatal for males (0.221) than females (0.151). Despite these numbers, I still find sharks fascinaing to observe from a distance. I was surprised that unprovoked attacks were more likely to be fatal, assuming that provoked attacks meant the shark would retaliate."
   ]
  },
  {
   "cell_type": "code",
   "execution_count": 131,
   "id": "064400c2",
   "metadata": {},
   "outputs": [
    {
     "name": "stdout",
     "output_type": "stream",
     "text": [
      "Cleaned_Type  PROVOKED   UNKNOWN  UNPROVOKED\n",
      "Cleaned_Sex                                 \n",
      "F             0.038462  0.114144    0.847395\n",
      "M             0.097311  0.133935    0.768754 \n",
      "\n",
      "Cleaned_Fatal_Y/N         N   Unknown         Y\n",
      "Cleaned_Type                                   \n",
      "PROVOKED           0.953198  0.014041  0.032761\n",
      "UNKNOWN            0.372924  0.460963  0.166113\n",
      "UNPROVOKED         0.742159  0.015201  0.242640 \n",
      "\n",
      "Cleaned_Fatal_Y/N         N   Unknown         Y\n",
      "Cleaned_Sex                                    \n",
      "F                  0.761787  0.086849  0.151365\n",
      "M                  0.697275  0.081387  0.221338 \n",
      "\n"
     ]
    }
   ],
   "source": [
    "print(pd.crosstab(df_shark[\"Cleaned_Sex\"], df_shark[\"Cleaned_Type\"], normalize=\"index\"), \"\\n\")\n",
    "\n",
    "print(pd.crosstab(df_shark[\"Cleaned_Type\"], df_shark[\"Cleaned_Fatal_Y/N\"], normalize=\"index\"), \"\\n\")\n",
    "\n",
    "print(pd.crosstab(df_shark[\"Cleaned_Sex\"], df_shark[\"Cleaned_Fatal_Y/N\"], normalize=\"index\"), \"\\n\")"
   ]
  },
  {
   "cell_type": "markdown",
   "id": "4be09d23",
   "metadata": {},
   "source": [
    "9. 0.107 or 10.7% of attacks appear to be from white sharks. This was calculated by uppercasing and stripping each value in \"Species \" into a new column \"Cleaned_Species.\" Next, a new dummy column, \"White_Shark\", was created to store whether a species was a white shark or not. This was computed by checking if each string value contained \"WHITE\" or not. NaN values were also considered false. To get the proportion, I divided the number of true values in \"White_Shark\" by the total number of values."
   ]
  },
  {
   "cell_type": "code",
   "execution_count": 132,
   "id": "3552acb0",
   "metadata": {},
   "outputs": [
    {
     "name": "stdout",
     "output_type": "stream",
     "text": [
      "White_Shark\n",
      "False    6290\n",
      "True      752\n",
      "Name: count, dtype: int64 \n",
      "\n",
      "Proportion of white shark attacks:  0.10678784436239705\n"
     ]
    }
   ],
   "source": [
    "df_shark[\"Species \"].unique()\n",
    "\n",
    "df_shark[\"Cleaned_Species\"] = (\n",
    "    df_shark[\"Species \"]\n",
    "    .str.upper()\n",
    "    .str.strip()    \n",
    ")\n",
    "\n",
    "# Check for the keyword \"WHITE\" in each value, mark as True if it contains it, false otherwise\n",
    "df_shark[\"White_Shark\"] = df_shark[\"Cleaned_Species\"].str.contains(\"WHITE\", na=False)\n",
    "\n",
    "print(df_shark[\"White_Shark\"].value_counts(), \"\\n\")\n",
    "\n",
    "print(\"Proportion of white shark attacks: \", sum(df_shark[\"White_Shark\"]) / len(df_shark[\"White_Shark\"]))"
   ]
  }
 ],
 "metadata": {
  "colab": {
   "provenance": []
  },
  "kernelspec": {
   "display_name": "Python 3",
   "language": "python",
   "name": "python3"
  },
  "language_info": {
   "codemirror_mode": {
    "name": "ipython",
    "version": 3
   },
   "file_extension": ".py",
   "mimetype": "text/x-python",
   "name": "python",
   "nbconvert_exporter": "python",
   "pygments_lexer": "ipython3",
   "version": "3.12.1"
  }
 },
 "nbformat": 4,
 "nbformat_minor": 5
}
